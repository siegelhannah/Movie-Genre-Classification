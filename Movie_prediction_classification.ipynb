{
 "cells": [
  {
   "cell_type": "code",
   "execution_count": 90,
   "metadata": {},
   "outputs": [],
   "source": [
    "import otter\n",
    "grader = otter.Notebook()"
   ]
  },
  {
   "cell_type": "code",
   "execution_count": 279,
   "metadata": {
    "tags": []
   },
   "outputs": [],
   "source": [
    "import numpy as np\n",
    "import math\n",
    "import pandas as pd\n",
    "\n",
    "# These lines set up the plotting functionality and formatting.\n",
    "import matplotlib\n",
    "matplotlib.use('Agg')\n",
    "%matplotlib inline\n",
    "import matplotlib.pyplot as plt\n",
    "plt.style.use('fivethirtyeight')\n",
    "import seaborn as sns\n",
    "import warnings\n",
    "warnings.simplefilter(action=\"ignore\", category=FutureWarning)\n"
   ]
  },
  {
   "cell_type": "markdown",
   "metadata": {},
   "source": [
    "# 1. The Dataset\n",
    "\n",
    "In this project, we are exploring movie screenplays. We'll be trying to predict each movie's genre from the text of its screenplay. In particular, we have compiled a list of 5,000 words that occur in conversations between movie characters. For each movie, our dataset tells us the frequency with which each of these words occurs in certain conversations in its screenplay. All words have been converted to lowercase."
   ]
  },
  {
   "cell_type": "code",
   "execution_count": 94,
   "metadata": {
    "tags": []
   },
   "outputs": [
    {
     "data": {
      "text/html": [
       "<div>\n",
       "<style scoped>\n",
       "    .dataframe tbody tr th:only-of-type {\n",
       "        vertical-align: middle;\n",
       "    }\n",
       "\n",
       "    .dataframe tbody tr th {\n",
       "        vertical-align: top;\n",
       "    }\n",
       "\n",
       "    .dataframe thead th {\n",
       "        text-align: right;\n",
       "    }\n",
       "</style>\n",
       "<table border=\"1\" class=\"dataframe\">\n",
       "  <thead>\n",
       "    <tr style=\"text-align: right;\">\n",
       "      <th></th>\n",
       "      <th>Title</th>\n",
       "      <th>Year</th>\n",
       "      <th>Rating</th>\n",
       "      <th>Genre</th>\n",
       "      <th># Words</th>\n",
       "      <th>breez</th>\n",
       "      <th>england</th>\n",
       "      <th>it</th>\n",
       "      <th>bravo</th>\n",
       "    </tr>\n",
       "  </thead>\n",
       "  <tbody>\n",
       "    <tr>\n",
       "      <th>241</th>\n",
       "      <td>wild wild west</td>\n",
       "      <td>1999</td>\n",
       "      <td>4.3</td>\n",
       "      <td>comedy</td>\n",
       "      <td>3446</td>\n",
       "      <td>0.0</td>\n",
       "      <td>0.0</td>\n",
       "      <td>0.021263</td>\n",
       "      <td>0.0</td>\n",
       "    </tr>\n",
       "  </tbody>\n",
       "</table>\n",
       "</div>"
      ],
      "text/plain": [
       "              Title  Year  Rating   Genre  # Words  breez  england        it  \\\n",
       "241  wild wild west  1999     4.3  comedy     3446    0.0      0.0  0.021263   \n",
       "\n",
       "     bravo  \n",
       "241    0.0  "
      ]
     },
     "execution_count": 94,
     "metadata": {},
     "output_type": "execute_result"
    }
   ],
   "source": [
    "movies = pd.read_csv('movies.csv')\n",
    "movies[movies[\"Title\"] == \"wild wild west\"].iloc[:,[0, 1, 2, 3, 4, 14, 49, 1042, 4004]]"
   ]
  },
  {
   "cell_type": "markdown",
   "metadata": {},
   "source": [
    "The above cell prints a few columns of the row for the comedy movie *Wild Wild West*.  The movie contains 3446 words. The word \"it\" appears 74 times, as it makes up  $\\frac{74}{3446} \\approx 0.021364$ of the words in the movie. The word \"england\" doesn't appear at all.\n",
    "This numerical representation of a body of text, one that describes only the frequencies of individual words, is called a bag-of-words representation. A lot of information is discarded in this representation: the order of the words, the context of each word, who said what, the cast of characters and actors, etc. However, a bag-of-words representation is often used for machine learning applications as a reasonable starting point, because a great deal of information is also retained and expressed in a convenient and compact format. In this project, we will investigate whether this representation is sufficient to build an accurate genre classifier."
   ]
  },
  {
   "cell_type": "markdown",
   "metadata": {},
   "source": [
    "All movie titles are unique. Here we'll turn the movie's Title column into its index as well. \n",
    "\n",
    "*Note: All movies in our dataset have their titles lower-cased.* "
   ]
  },
  {
   "cell_type": "code",
   "execution_count": 282,
   "metadata": {
    "tags": []
   },
   "outputs": [],
   "source": [
    "movies = movies.set_index('Title', drop = False)\n",
    "movies[\"Title\"] = movies.index"
   ]
  },
  {
   "cell_type": "markdown",
   "metadata": {},
   "source": [
    "This dataset was extracted from [a dataset from Cornell University](http://www.cs.cornell.edu/~cristian/Cornell_Movie-Dialogs_Corpus.html). After transforming the dataset (e.g., converting the words to lowercase, removing the naughty words, and converting the counts to frequencies), we created this new dataset containing the frequency of 5000 common words in each movie."
   ]
  },
  {
   "cell_type": "markdown",
   "metadata": {},
   "source": [
    "## 1.1. Word Stemming\n",
    "The columns other than \"Title\", \"Year\", \"Rating\", \"Genre\", and \"# Words\" in the `movies` table are all words that appear in some of the movies in our dataset.  These words have been *stemmed*, or abbreviated heuristically, in an attempt to make different [inflected](https://en.wikipedia.org/wiki/Inflection) forms of the same base word into the same string.  For example, the column \"manag\" is the sum of proportions of the words \"manage\", \"manager\", \"managed\", and \"managerial\" (and perhaps others) in each movie. This is a common technique used in machine learning and natural language processing."
   ]
  },
  {
   "cell_type": "code",
   "execution_count": 662,
   "metadata": {
    "scrolled": true,
    "tags": []
   },
   "outputs": [
    {
     "data": {
      "text/html": [
       "<div>\n",
       "<style scoped>\n",
       "    .dataframe tbody tr th:only-of-type {\n",
       "        vertical-align: middle;\n",
       "    }\n",
       "\n",
       "    .dataframe tbody tr th {\n",
       "        vertical-align: top;\n",
       "    }\n",
       "\n",
       "    .dataframe thead th {\n",
       "        text-align: right;\n",
       "    }\n",
       "</style>\n",
       "<table border=\"1\" class=\"dataframe\">\n",
       "  <thead>\n",
       "    <tr style=\"text-align: right;\">\n",
       "      <th></th>\n",
       "      <th>Stem</th>\n",
       "      <th>Word</th>\n",
       "    </tr>\n",
       "  </thead>\n",
       "  <tbody>\n",
       "    <tr>\n",
       "      <th>1101</th>\n",
       "      <td>year.1</td>\n",
       "      <td>NaN</td>\n",
       "    </tr>\n",
       "    <tr>\n",
       "      <th>1102</th>\n",
       "      <td>shovel</td>\n",
       "      <td>shoveling</td>\n",
       "    </tr>\n",
       "    <tr>\n",
       "      <th>1103</th>\n",
       "      <td>shovel</td>\n",
       "      <td>shovels</td>\n",
       "    </tr>\n",
       "    <tr>\n",
       "      <th>1104</th>\n",
       "      <td>shovel</td>\n",
       "      <td>shovelling</td>\n",
       "    </tr>\n",
       "    <tr>\n",
       "      <th>1105</th>\n",
       "      <td>shovel</td>\n",
       "      <td>shoveler</td>\n",
       "    </tr>\n",
       "    <tr>\n",
       "      <th>1106</th>\n",
       "      <td>shovel</td>\n",
       "      <td>shoveled</td>\n",
       "    </tr>\n",
       "    <tr>\n",
       "      <th>1107</th>\n",
       "      <td>shovel</td>\n",
       "      <td>shovel</td>\n",
       "    </tr>\n",
       "    <tr>\n",
       "      <th>1108</th>\n",
       "      <td>sequenc</td>\n",
       "      <td>sequencing</td>\n",
       "    </tr>\n",
       "    <tr>\n",
       "      <th>1109</th>\n",
       "      <td>sequenc</td>\n",
       "      <td>sequencer</td>\n",
       "    </tr>\n",
       "    <tr>\n",
       "      <th>1110</th>\n",
       "      <td>sequenc</td>\n",
       "      <td>sequences</td>\n",
       "    </tr>\n",
       "  </tbody>\n",
       "</table>\n",
       "</div>"
      ],
      "text/plain": [
       "         Stem        Word\n",
       "1101   year.1         NaN\n",
       "1102   shovel   shoveling\n",
       "1103   shovel     shovels\n",
       "1104   shovel  shovelling\n",
       "1105   shovel    shoveler\n",
       "1106   shovel    shoveled\n",
       "1107   shovel      shovel\n",
       "1108  sequenc  sequencing\n",
       "1109  sequenc   sequencer\n",
       "1110  sequenc   sequences"
      ]
     },
     "execution_count": 662,
     "metadata": {},
     "output_type": "execute_result"
    }
   ],
   "source": [
    "vocab_mapping = pd.read_csv('stem.csv')\n",
    "stemmed = np.take(movies.columns, np.arange(3, len(movies.columns)))\n",
    "\n",
    "vocab_table = pd.DataFrame({'Stem': stemmed})\n",
    "vocab_table = pd.merge(vocab_table, vocab_mapping, on = \"Stem\", how = \"left\")\n",
    "vocab_table[1101:1111]"
   ]
  },
  {
   "cell_type": "markdown",
   "metadata": {},
   "source": [
    "#### 1.1.1 - Example\n",
    "Here we assign `stemmed_message` to the stemmed version of the word \"vegetables\"."
   ]
  },
  {
   "cell_type": "code",
   "execution_count": 291,
   "metadata": {
    "tags": []
   },
   "outputs": [
    {
     "data": {
      "text/plain": [
       "'veget'"
      ]
     },
     "execution_count": 291,
     "metadata": {},
     "output_type": "execute_result"
    }
   ],
   "source": [
    "vegetables = vocab_table[vocab_table[\"Word\"] == \"vegetables\"]\n",
    "array = np.array(vegetables)\n",
    "\n",
    "stemmed_message = array.item(0)\n",
    "stemmed_message"
   ]
  },
  {
   "cell_type": "markdown",
   "metadata": {},
   "source": [
    "#### 1.1.2 - Exploration\n",
    "Exploring the data: here we find the stem in the dataset has the most words that are shortened to it."
   ]
  },
  {
   "cell_type": "code",
   "execution_count": 294,
   "metadata": {
    "tags": []
   },
   "outputs": [
    {
     "data": {
      "text/plain": [
       "'gener'"
      ]
     },
     "execution_count": 294,
     "metadata": {},
     "output_type": "execute_result"
    }
   ],
   "source": [
    "size = vocab_table.groupby(\"Stem\").size() # gives the count of rows for each stem\n",
    "\n",
    "# formatting\n",
    "size_table = vocab_table.groupby(\"Stem\").size().reset_index() # turns count table size into an indexed dataframe\n",
    "size_table[\"Count\"] = np.array(size_table.iloc[:, 1]) # renames/duplicates the Count column to make it accessible (bug?)\n",
    "\n",
    "max_size = max(size_table[\"Count\"]) # finds the row with the max count\n",
    "max_row = size_table[size_table[\"Count\"] == max_size]\n",
    "\n",
    "most_stem = np.array(max_row[\"Stem\"]).item(0)\n",
    "most_stem"
   ]
  },
  {
   "cell_type": "markdown",
   "metadata": {},
   "source": [
    "#### 1.1.3 - More Exploration\n",
    "Here we find the longest word in the dataset whose stem wasn't shortened, and assign it to `longest_uncut`. We break ties alphabetically from Z to A."
   ]
  },
  {
   "cell_type": "code",
   "execution_count": 110,
   "metadata": {
    "for_assignment_type": "student"
   },
   "outputs": [
    {
     "data": {
      "text/plain": [
       "'misunderstand'"
      ]
     },
     "execution_count": 110,
     "metadata": {},
     "output_type": "execute_result"
    }
   ],
   "source": [
    "# array with lengths of each stem\n",
    "stem_lengths = np.empty(0)\n",
    "stem_column = np.array(vocab_table[\"Stem\"])\n",
    "\n",
    "for i in np.arange(vocab_table.shape[0]):\n",
    "    \n",
    "    new_stem_len = len(stem_column[i])\n",
    "    stem_lengths = np.append(stem_lengths, new_stem_len)\n",
    "    \n",
    "    \n",
    "# array with lengths of each word\n",
    "word_lengths = np.empty(0)\n",
    "word_column = np.array(vocab_table[\"Word\"])\n",
    "\n",
    "for i in np.arange(vocab_table.shape[0]):\n",
    "    \n",
    "    if type(word_column[i]) != str: # for NaN values in some of the columns\n",
    "        new_word_len = 0\n",
    "    else:\n",
    "        new_word_len = len(word_column[i])\n",
    "        \n",
    "    word_lengths = np.append(word_lengths, new_word_len)\n",
    "\n",
    "    \n",
    "# add these columns, along with difference, to vocab_table\n",
    "vocab_table[\"Stem Len\"] = stem_lengths\n",
    "vocab_table[\"Word Len\"] = word_lengths\n",
    "vocab_table[\"Difference\"] = stem_lengths - word_lengths\n",
    "\n",
    "no_diff = vocab_table[vocab_table[\"Difference\"] == 0.0]\n",
    "\n",
    "# find maximum\n",
    "maximums = no_diff[no_diff[\"Stem Len\"] == max(no_diff[\"Stem Len\"])]\n",
    "z_to_a = np.array(maximums.sort_values('Word', ascending = False)[\"Word\"]) # sorted Z to A\n",
    "\n",
    "longest_uncut = z_to_a.item(0)\n",
    "longest_uncut"
   ]
  },
  {
   "cell_type": "markdown",
   "metadata": {},
   "source": [
    "## 1.2. Exploratory Data Analysis: Linear Regression"
   ]
  },
  {
   "cell_type": "markdown",
   "metadata": {},
   "source": [
    "Now, we explore our dataset before trying to build a classifier. To start, we'll look at the relationship between words in proportions. \n",
    "\n",
    "The first association we'll investigate is the association between the proportion of words that are \"outer\" and the proportion of words that are \"space\". \n",
    "\n",
    "As usual, we'll investigate our data visually before performing any numerical analysis.\n",
    "\n",
    "Run the cell below to plot a scatter diagram of space proportions vs outer proportions and to create the `outer_space` table."
   ]
  },
  {
   "cell_type": "code",
   "execution_count": 298,
   "metadata": {},
   "outputs": [
    {
     "data": {
      "image/png": "[encoded data removed]",
      "text/plain": [
       "<Figure size 640x480 with 1 Axes>"
      ]
     },
     "metadata": {},
     "output_type": "display_data"
    }
   ],
   "source": [
    "outer_space = movies[[\"outer\", \"space\"]]\n",
    "sns.scatterplot(data = outer_space, x = \"outer\", y = \"space\")\n",
    "plt.xlim(-.0005, .001);"
   ]
  },
  {
   "cell_type": "markdown",
   "metadata": {},
   "source": [
    "#### 1.2.1 - Correlation coefficient\n",
    "Looking at that chart it is difficult to see if there is an association. We can calculate the correlation coefficient for the association between proportion of words that are \"outer\" and the proportion of words that are \"space\" for every movie in the dataset to get a sense of the correlation."
   ]
  },
  {
   "cell_type": "code",
   "execution_count": 301,
   "metadata": {},
   "outputs": [
    {
     "data": {
      "text/plain": [
       "0.2829527833012741"
      ]
     },
     "execution_count": 301,
     "metadata": {},
     "output_type": "execute_result"
    }
   ],
   "source": [
    "outer = movies[\"outer\"]\n",
    "space = movies[\"space\"]\n",
    "\n",
    "outer_su = (outer - np.average(outer)) / np.std(outer)\n",
    "space_su = (space - np.average(space)) / np.std(space)\n",
    "\n",
    "outer_space_r = np.average(outer_su * space_su)\n",
    "outer_space_r"
   ]
  },
  {
   "cell_type": "markdown",
   "metadata": {},
   "source": [
    "#### 1.2.2 - Correlation between new words\n",
    "To explore, we can choose two *different* words in the dataset with a correlation higher than 0.2 or smaller than -0.2 (that are not *outer* and *space*) and plot a scatter plot with a line of best fit for them. I chose \"oh\" and \"no\" because these are words that are commonly found together and will likely have a positive correlation (seen below)."
   ]
  },
  {
   "cell_type": "code",
   "execution_count": 304,
   "metadata": {
    "export_pdf": true
   },
   "outputs": [
    {
     "data": {
      "image/png": "[encoded data removed]",
      "text/plain": [
       "<Figure size 640x480 with 1 Axes>"
      ]
     },
     "metadata": {},
     "output_type": "display_data"
    }
   ],
   "source": [
    "word_x = \"oh\"\n",
    "word_y = \"no\"\n",
    "\n",
    "# These arrays should make your code cleaner!\n",
    "arr_x = movies[word_x]\n",
    "arr_y = movies[word_y]\n",
    "\n",
    "x_su = (arr_x - np.average(arr_x)) / np.std(arr_x)\n",
    "y_su = (arr_y - np.average(arr_y)) / np.std(arr_y)\n",
    "\n",
    "r = np.average(x_su * y_su)\n",
    "\n",
    "slope = r * (np.std(arr_y) / np.std(arr_x)) # turn back into original units\n",
    "intercept = np.average(arr_y) - (slope * np.average(arr_x))\n",
    "\n",
    "# DON'T CHANGE THESE LINES OF CODE\n",
    "sns.scatterplot(x = arr_x, y = arr_y)\n",
    "max_x = np.max(movies[word_x])\n",
    "plt.title(f\"Correlation: {np.round(r,3)}, magnitude greater than .2: {abs(r) >= 0.2}\")\n",
    "sns.lineplot(x = [0, max_x * 1.3], y = [intercept, intercept + slope * (max_x*1.3)], color='gold');"
   ]
  },
  {
   "cell_type": "markdown",
   "metadata": {},
   "source": [
    "## 1.3. Splitting the dataset into Train and Test\n",
    "We're going to use our `movies` dataset for two purposes.\n",
    "\n",
    "1. First, we want to *train* movie genre classifiers.\n",
    "2. Second, we want to *test* the performance of our classifiers.\n",
    "\n",
    "Hence, we need two different datasets: *training* and *test*.\n",
    "\n",
    "The purpose of a classifier is to classify unseen data that is similar to the training data. Therefore, we must ensure that there are no movies that appear in both sets. We do so by splitting the dataset randomly. The dataset has already been permuted randomly, so it's easy to split.  We just take the top for training and the rest for test. \n",
    "\n",
    "Below, we separate the datasets into two tables."
   ]
  },
  {
   "cell_type": "code",
   "execution_count": 307,
   "metadata": {},
   "outputs": [
    {
     "name": "stdout",
     "output_type": "stream",
     "text": [
      "Training:  314 ; Test:  56\n"
     ]
    }
   ],
   "source": [
    "# Here we have defined the proportion of our data\n",
    "# that we want to designate for training as 17/20ths\n",
    "# of our total dataset.  3/20ths of the data is\n",
    "# reserved for testing.\n",
    "\n",
    "training_proportion = 17/20\n",
    "\n",
    "num_movies = len(movies)\n",
    "num_train = int(num_movies * training_proportion)\n",
    "num_test = num_movies - num_train\n",
    "\n",
    "train_movies = movies.iloc[np.arange(num_train),:]\n",
    "test_movies = movies.iloc[np.arange(num_train, num_movies)]\n",
    "\n",
    "print(\"Training: \",   len(train_movies), \";\",\n",
    "      \"Test: \",       len(test_movies))"
   ]
  },
  {
   "cell_type": "markdown",
   "metadata": {
    "tags": []
   },
   "source": [
    "#### 1.3.1 - Checking that proportions are similar\n",
    "To compare the proportion of comedy movies in each dataset (train/test), we can visualize it using a simple bar chart (below). Ideally they should be very similar if not the same proportions."
   ]
  },
  {
   "cell_type": "code",
   "execution_count": 310,
   "metadata": {
    "export_pdf": true,
    "for_assignment_type": "solution"
   },
   "outputs": [
    {
     "data": {
      "text/plain": [
       "<BarContainer object of 2 artists>"
      ]
     },
     "execution_count": 310,
     "metadata": {},
     "output_type": "execute_result"
    },
    {
     "data": {
      "image/png": "[encoded data removed]",
      "text/plain": [
       "<Figure size 640x480 with 1 Axes>"
      ]
     },
     "metadata": {},
     "output_type": "display_data"
    }
   ],
   "source": [
    "def comedy_proportion(table):\n",
    "    comedies = table[table[\"Genre\"] == \"comedy\"]\n",
    "    num_comedy = len(comedies[\"Genre\"])\n",
    "    \n",
    "    return (num_comedy) / (table.shape[0])\n",
    "    \n",
    "# Create your barplot\n",
    "train_proportion = comedy_proportion(train_movies)\n",
    "test_proportion = comedy_proportion(test_movies)\n",
    "\n",
    "plt.bar([\"train data\", \"test data\"],[train_proportion, test_proportion])"
   ]
  },
  {
   "cell_type": "markdown",
   "metadata": {},
   "source": [
    "# 2. K-Nearest Neighbors - intro and application\n",
    "\n",
    "K-Nearest Neighbors (k-NN) is a classification algorithm.  Given some numerical *attributes* (also called *features*) of an unseen example, it decides whether that example belongs to one or the other of two categories based on its similarity to previously seen examples. Predicting the category of an example is called *labeling*, and the predicted category is also called a *label*.\n",
    "\n",
    "An attribute (feature) we have about each movie is *the proportion of times a particular word appears in the movies*, and the labels are two movie genres: comedy and thriller.  The algorithm requires many previously seen examples for which both the attributes and labels are known: that's the `train_movies` table.\n",
    "\n",
    "First, we're going to visualize the algorithm."
   ]
  },
  {
   "cell_type": "markdown",
   "metadata": {},
   "source": [
    "## 2.1. Classifying a movie\n",
    "\n",
    "In k-NN, we classify a movie by finding the `k` movies in the *training set* that are most similar according to the features we choose. We call those movies with similar features the *nearest neighbors*.  The k-NN algorithm assigns the movie to the most common category among its `k` nearest neighbors.\n",
    "\n",
    "First, we will choose only 2 features, so we can plot each movie.  The features we will use are the proportions of the words \"water\" and \"feel\" in the movie.  Taking the movie *Monty Python and the Holy Grail* (in the test set), 0.000804074 of its words are \"water\" and 0.0010721 are \"feel\".\n",
    "\n",
    "We will say that the *distance* between two movies is the **Euclidean distance** between them when we plot their features in a scatter diagram.\n",
    "\n",
    "For example, in the movie *Clerks.* (in the training set), 0.00016293 of all the words in the movie are \"water\" and 0.00154786 are \"feel\".  Its distance from *Monty Python and the Holy Grail* on this 2-word feature set is $\\sqrt{(0.000804074 - 0.000162933)^2 + (0.0010721 - 0.00154786)^2} \\approx 0.000798379$.  (If we included more or different features, the distance could be different.)\n",
    "\n",
    "A third movie, *The Avengers* (in the training set), is 0 \"water\" and 0.00103173 \"feel\".\n",
    "\n",
    "The function below creates a plot to display the \"water\" and \"feel\" features of a test movie and some training movies. As you can see in the result, *Monty Python and the Holy Grail* is more similar to \"Clerks.\" than to the *The Avengers* based on these features, which is makes sense as both movies are comedy movies, while *The Avengers* is a thriller.\n"
   ]
  },
  {
   "cell_type": "code",
   "execution_count": 315,
   "metadata": {},
   "outputs": [],
   "source": [
    "def plot_with_two_features(test_movie, training_movies, x_feature, y_feature):\n",
    "    \"\"\"Plot a test movie and training movies using two features.\"\"\"\n",
    "    test_row = test_movies.loc[test_movie]\n",
    "    distances = pd.DataFrame({\n",
    "            \"x_feature\": test_row[x_feature],\n",
    "            \"y_feature\": test_row[y_feature],\n",
    "            'Genre': 'unknown',\n",
    "            'Title': test_movie\n",
    "                }, index = [0])\n",
    "    \n",
    "    for movie in training_movies:\n",
    "        row = train_movies.loc[movie]\n",
    "        distances.loc[len(distances)] = [row[x_feature], row[y_feature], row['Genre'], movie]\n",
    "\n",
    "    sns.set_palette(\"dark\")\n",
    "    sns.scatterplot(data = distances, x = \"x_feature\", y = \"y_feature\", hue = \"Genre\", s = 70)\n",
    "    plt.legend(labels = distances[\"Title\"], fontsize = \"small\", labelcolor = sns.color_palette()[0:3], markerscale=0)"
   ]
  },
  {
   "cell_type": "code",
   "execution_count": 127,
   "metadata": {},
   "outputs": [
    {
     "data": {
      "image/png": "[encoded data removed]",
      "text/plain": [
       "<Figure size 640x480 with 1 Axes>"
      ]
     },
     "metadata": {},
     "output_type": "display_data"
    }
   ],
   "source": [
    "training = [\"clerks.\", \"the avengers\"]\n",
    "plot_with_two_features(\"monty python and the holy grail\", training, \"water\", \"feel\")"
   ]
  },
  {
   "cell_type": "markdown",
   "metadata": {},
   "source": [
    "#### 2.1.1 - distance between 2 movies\n",
    "\n",
    "Below, we can compute the Euclidean distance between the two movies, *Monty Python and the Holy Grail* and *The Avengers*, using the `water` and `feel` features only."
   ]
  },
  {
   "cell_type": "code",
   "execution_count": 318,
   "metadata": {},
   "outputs": [
    {
     "data": {
      "text/plain": [
       "0.0008050869157478146"
      ]
     },
     "execution_count": 318,
     "metadata": {},
     "output_type": "execute_result"
    }
   ],
   "source": [
    "python = np.array([movies.loc[\"monty python and the holy grail\", \"water\"],\n",
    "                   movies.loc[\"monty python and the holy grail\", \"feel\"]])\n",
    "\n",
    "avengers = np.array([movies.loc[\"the avengers\", \"water\"],\n",
    "                     movies.loc[\"the avengers\", \"feel\"]])\n",
    "\n",
    "one_distance = np.sqrt(sum((python - avengers)**2))\n",
    "one_distance"
   ]
  },
  {
   "cell_type": "markdown",
   "metadata": {},
   "source": [
    "Below, we've added a third training movie, *The Silence of the Lambs*. Before, the point closest to *Monty Python and the Holy Grail* was *Clerks.*, a comedy movie. However, now the closest point is *The Silence of the Lambs*, a thriller movie."
   ]
  },
  {
   "cell_type": "code",
   "execution_count": 320,
   "metadata": {},
   "outputs": [
    {
     "data": {
      "image/png": "[encoded data removed]",
      "text/plain": [
       "<Figure size 640x480 with 1 Axes>"
      ]
     },
     "metadata": {},
     "output_type": "display_data"
    }
   ],
   "source": [
    "training = [\"clerks.\", \"the avengers\", \"the silence of the lambs\"] \n",
    "plot_with_two_features(\"monty python and the holy grail\", training, \"water\", \"feel\");"
   ]
  },
  {
   "cell_type": "markdown",
   "metadata": {},
   "source": [
    "#### 2.1.2 - distance function\n",
    "We can create a *function* `distance_two_features` that computes the Euclidean distance between any two movies for us, using two features as input parameters.\n",
    "(The last two lines call this function to show that *Monty Python and the Holy Grail* is closer to *The Silence of the Lambs* than it is to *Clerks*)"
   ]
  },
  {
   "cell_type": "code",
   "execution_count": 323,
   "metadata": {},
   "outputs": [
    {
     "name": "stdout",
     "output_type": "stream",
     "text": [
      "clerks. distance:\t 0.0007983810687227716\n",
      "the silence of the lambs distance:\t 0.00022256314855564847\n"
     ]
    }
   ],
   "source": [
    "def distance_two_features(title0, title1, x_feature, y_feature):\n",
    "    \n",
    "    title0_points = np.array([movies.loc[title0, x_feature],\n",
    "                              movies.loc[title0, y_feature]])\n",
    "    \n",
    "    title1_points = np.array([movies.loc[title1, x_feature],\n",
    "                              movies.loc[title1, y_feature]])\n",
    "    \n",
    "    distance = np.sqrt(sum((title0_points - title1_points)**2))\n",
    "    \n",
    "    return distance\n",
    "    \n",
    "    \n",
    "for movie in np.array([\"clerks.\", \"the silence of the lambs\"]):\n",
    "    movie_distance = distance_two_features(movie, \"monty python and the holy grail\", \"water\", \"feel\")\n",
    "    print(movie, 'distance:\\t', movie_distance)"
   ]
  },
  {
   "cell_type": "markdown",
   "metadata": {},
   "source": [
    "#### 2.1.3 - distance from specified movie\n",
    "We can also create a function `distance_from_python` that computes the Euclidean distance between any given movie and \"monty python and the holy grail\"."
   ]
  },
  {
   "cell_type": "code",
   "execution_count": 329,
   "metadata": {},
   "outputs": [
    {
     "data": {
      "text/plain": [
       "0.00022256314855564847"
      ]
     },
     "execution_count": 329,
     "metadata": {},
     "output_type": "execute_result"
    }
   ],
   "source": [
    "def distance_from_python(title):\n",
    "    \"\"\"The distance between the given movie and \"monty python and the holy grail\", \n",
    "    based on the features \"water\" and \"feel\".\n",
    "    \n",
    "    This function takes a single argument:\n",
    "      title: A string, the name of a movie.\n",
    "    \"\"\"\n",
    "    \n",
    "    dist = distance_two_features(\"monty python and the holy grail\", title, \"water\", \"feel\")\n",
    "    \n",
    "    \n",
    "    return dist\n",
    "\n",
    "distance_from_python(\"the silence of the lambs\")"
   ]
  },
  {
   "cell_type": "markdown",
   "metadata": {},
   "source": [
    "#### 2.1.4 - top 5 closest\n",
    "\n",
    "Exploratory question: Using the features `\"water\"` and `\"feel\"`, what are the names and genres of the 5 movies in the **training set** closest to *Monty Python and the Holy Grail*?\n",
    "\n",
    "To answer this question, we can make a table (below):"
   ]
  },
  {
   "cell_type": "code",
   "execution_count": 353,
   "metadata": {
    "for_assignment_type": "solution"
   },
   "outputs": [
    {
     "data": {
      "text/html": [
       "<div>\n",
       "<style scoped>\n",
       "    .dataframe tbody tr th:only-of-type {\n",
       "        vertical-align: middle;\n",
       "    }\n",
       "\n",
       "    .dataframe tbody tr th {\n",
       "        vertical-align: top;\n",
       "    }\n",
       "\n",
       "    .dataframe thead th {\n",
       "        text-align: right;\n",
       "    }\n",
       "</style>\n",
       "<table border=\"1\" class=\"dataframe\">\n",
       "  <thead>\n",
       "    <tr style=\"text-align: right;\">\n",
       "      <th></th>\n",
       "      <th>Title</th>\n",
       "      <th>Genre</th>\n",
       "      <th>water</th>\n",
       "      <th>feel</th>\n",
       "      <th>distance from python</th>\n",
       "    </tr>\n",
       "    <tr>\n",
       "      <th>Title</th>\n",
       "      <th></th>\n",
       "      <th></th>\n",
       "      <th></th>\n",
       "      <th></th>\n",
       "      <th></th>\n",
       "    </tr>\n",
       "  </thead>\n",
       "  <tbody>\n",
       "    <tr>\n",
       "      <th>alien</th>\n",
       "      <td>alien</td>\n",
       "      <td>thriller</td>\n",
       "      <td>0.000709</td>\n",
       "      <td>0.001241</td>\n",
       "      <td>0.000194</td>\n",
       "    </tr>\n",
       "    <tr>\n",
       "      <th>tomorrow never dies</th>\n",
       "      <td>tomorrow never dies</td>\n",
       "      <td>thriller</td>\n",
       "      <td>0.000889</td>\n",
       "      <td>0.000889</td>\n",
       "      <td>0.000202</td>\n",
       "    </tr>\n",
       "    <tr>\n",
       "      <th>the silence of the lambs</th>\n",
       "      <td>the silence of the lambs</td>\n",
       "      <td>thriller</td>\n",
       "      <td>0.000596</td>\n",
       "      <td>0.000993</td>\n",
       "      <td>0.000223</td>\n",
       "    </tr>\n",
       "    <tr>\n",
       "      <th>innerspace</th>\n",
       "      <td>innerspace</td>\n",
       "      <td>comedy</td>\n",
       "      <td>0.000522</td>\n",
       "      <td>0.001044</td>\n",
       "      <td>0.000283</td>\n",
       "    </tr>\n",
       "    <tr>\n",
       "      <th>some like it hot</th>\n",
       "      <td>some like it hot</td>\n",
       "      <td>comedy</td>\n",
       "      <td>0.000529</td>\n",
       "      <td>0.000951</td>\n",
       "      <td>0.000301</td>\n",
       "    </tr>\n",
       "  </tbody>\n",
       "</table>\n",
       "</div>"
      ],
      "text/plain": [
       "                                             Title     Genre     water  \\\n",
       "Title                                                                    \n",
       "alien                                        alien  thriller  0.000709   \n",
       "tomorrow never dies            tomorrow never dies  thriller  0.000889   \n",
       "the silence of the lambs  the silence of the lambs  thriller  0.000596   \n",
       "innerspace                              innerspace    comedy  0.000522   \n",
       "some like it hot                  some like it hot    comedy  0.000529   \n",
       "\n",
       "                              feel  distance from python  \n",
       "Title                                                     \n",
       "alien                     0.001241              0.000194  \n",
       "tomorrow never dies       0.000889              0.000202  \n",
       "the silence of the lambs  0.000993              0.000223  \n",
       "innerspace                0.001044              0.000283  \n",
       "some like it hot          0.000951              0.000301  "
      ]
     },
     "execution_count": 353,
     "metadata": {},
     "output_type": "execute_result"
    }
   ],
   "source": [
    "# find the distance from python to each movie in the train set\n",
    "distances = np.empty(0)\n",
    "for i in np.arange(train_movies.shape[0]):\n",
    "    new_dist = distance_from_python(train_movies.iloc[i,0])\n",
    "    distances = np.append(distances, new_dist)\n",
    "    \n",
    "train_withdist = train_movies.copy()\n",
    "train_withdist[\"distance from python\"] = distances\n",
    "\n",
    "sorted_copy = train_withdist.sort_values(\"distance from python\", ascending = True)\n",
    "select_columns = sorted_copy.loc[:, [\"Title\", \"Genre\", \"water\", \"feel\", \"distance from python\"]]\n",
    "\n",
    "close_movies = select_columns.iloc[:5, :]\n",
    "close_movies"
   ]
  },
  {
   "cell_type": "markdown",
   "metadata": {},
   "source": [
    "#### 2.1.5 - classifying based on these 5 nearest neighbors\n",
    "Next, we'll clasify *Monty Python and the Holy Grail* based on the genres of the closest movies. \n",
    "\n",
    "We can use the help of a function `most_common` which returns the most common element of a column of a table (to return the most common genres of the closest movies)."
   ]
  },
  {
   "cell_type": "code",
   "execution_count": 359,
   "metadata": {
    "tags": []
   },
   "outputs": [
    {
     "data": {
      "text/plain": [
       "'thriller'"
      ]
     },
     "execution_count": 359,
     "metadata": {},
     "output_type": "execute_result"
    }
   ],
   "source": [
    "def most_common(label, table):\n",
    "    \"\"\"The most common element in a column of a table.\n",
    "    \n",
    "    This function takes two arguments:\n",
    "      label: The label of a column, a string.\n",
    "      table: A table.\n",
    "     \n",
    "    It returns the most common value in that column of that table.\n",
    "    In case of a tie, it returns any one of the most common values\n",
    "    \"\"\"\n",
    "    \n",
    "    unique_labels = np.array(table[label].unique())\n",
    "    label_count = np.array(table[label].value_counts())\n",
    "    \n",
    "    frequency_df = pd.DataFrame({\"label\": unique_labels, \"frequency\": label_count})\n",
    "    \n",
    "    maximum = frequency_df[frequency_df[\"frequency\"] == max(frequency_df[\"frequency\"])]\n",
    "    \n",
    "    most_common = np.array(maximum[\"label\"])[0]\n",
    "       \n",
    "    return most_common\n",
    "\n",
    "\n",
    "# Calling most_common on our table of 5 nearest neighbors classifies\n",
    "# \"monty python and the holy grail\" as a thriller movie, 3 votes to 2. \n",
    "most_common('Genre', close_movies)"
   ]
  },
  {
   "cell_type": "markdown",
   "metadata": {},
   "source": [
    "Although we have successfully classified one movie, we can see that the classifier isn't too accurate: It categorized *Monty Python and the Holy Grail* as a thriller movie! \n",
    "\n",
    "Next, let's improve our classifier."
   ]
  },
  {
   "cell_type": "markdown",
   "metadata": {},
   "source": [
    "# 3. Features"
   ]
  },
  {
   "cell_type": "markdown",
   "metadata": {},
   "source": [
    "Let's extend our classifier to consider more than two features at a time.\n",
    "\n",
    "Euclidean distance still makes sense with more than two features. For `n` different features, we compute the difference between corresponding feature values for two movies, square each of the `n`  differences, sum up the resulting numbers, and take the square root of the sum."
   ]
  },
  {
   "cell_type": "markdown",
   "metadata": {},
   "source": [
    "#### 3.0\n",
    "To do this quickly, we can define a function called `distance` to compute the Euclidean distance between two **arrays** of **numerical** features (e.g. arrays of the proportions of times that different words appear).\n",
    "\n",
    "We can use this function to compute the distance between the first and second movie in the training set *using all of their features*."
   ]
  },
  {
   "cell_type": "code",
   "execution_count": 461,
   "metadata": {},
   "outputs": [
    {
     "data": {
      "text/plain": [
       "1.1800131184680485e-14"
      ]
     },
     "execution_count": 461,
     "metadata": {},
     "output_type": "execute_result"
    }
   ],
   "source": [
    "def distance(features_array1, features_array2):\n",
    "    \"\"\"The Euclidean distance between two arrays of feature values.\"\"\"\n",
    "    \n",
    "    return np.sqrt(sum(features_array1 - features_array2)**2)\n",
    "\n",
    "\n",
    "first = np.array(train_movies.iloc[0, 5:])\n",
    "second = np.array(train_movies.iloc[1, 5:])\n",
    "\n",
    "distance_first_to_second = distance(first, second)\n",
    "distance_first_to_second"
   ]
  },
  {
   "cell_type": "markdown",
   "metadata": {},
   "source": [
    "## 3.1. Creating our own optimized feature set\n",
    "\n",
    "Unfortunately, using all of the features has some downsides (for example, computing Euclidean distances is computationally expensive/takes a long time when we have lots of features).\n",
    "\n",
    "\n",
    "So, let's select just 20.  We'd like to choose features that are very *discriminative*. That is, features which lead us to correctly classify as much of the test set as possible.  This process of choosing features that will make a classifier work well is sometimes called *feature selection*, or, more broadly, *feature engineering*."
   ]
  },
  {
   "cell_type": "markdown",
   "metadata": {},
   "source": [
    "#### 3.1.1 - Common words in each genre:\n",
    "To conduct effective feature engineering/select more accurate features for distinguishing comedy from thriller movies, let's examine the plot below. This plot shows the average number of times each word occurs in a comedy movie on the horizontal axis and the average number of times it occurs in an thriller movie on the vertical axis, with a line of best fit through them all."
   ]
  },
  {
   "cell_type": "markdown",
   "metadata": {},
   "source": [
    "![image](word_plot.png \"Title\")"
   ]
  },
  {
   "cell_type": "markdown",
   "metadata": {},
   "source": [
    "Shown in the plot above:\n",
    "- Words in the bottom left are *uncommon* in both types of movies\n",
    "- Words in the top right are *common* in both types of movies\n",
    "\n",
    "- Words in the bottom right are common in comedies but uncommon in thrillers\n",
    "- Words in the top left are common in thrillers, uncommon in comedies"
   ]
  },
  {
   "cell_type": "markdown",
   "metadata": {},
   "source": [
    "#### 3.1.2 - making our new array of features\n",
    "Using the plot above, we can make an array of at least 10 new features: common words that will help us better distinguish between comedy and thriller movies.\n",
    "\n",
    "Here, I will choose words based on if they had nonsimilar x- and y-values (meaining they would have a high occurence in comedies and low in thrillers, or the other way around), which helps the program to differentiate between the two genres. I'm also going to try to select as many words common in comedies as words common in thrillers."
   ]
  },
  {
   "cell_type": "code",
   "execution_count": 775,
   "metadata": {},
   "outputs": [],
   "source": [
    "# my_features is an array of 10 or more features (strings that are column labels)\n",
    "\n",
    "my_features = np.array([\"kill\", \"well\", \"question\", \"dead\", \"cop\", \"murder\", \"gun\", \"killer\", \"uh\", \"oh\", \"marri\", \"thank\", \"love\"])\n",
    "\n",
    "\n",
    "# Select the features of interest from both the train and test sets\n",
    "train_my_features = train_movies[my_features]\n",
    "test_my_features = test_movies[my_features]"
   ]
  },
  {
   "cell_type": "markdown",
   "metadata": {},
   "source": [
    "Let's try to classify the first movie from our test set using these features. (below)"
   ]
  },
  {
   "cell_type": "code",
   "execution_count": 777,
   "metadata": {},
   "outputs": [
    {
     "name": "stdout",
     "output_type": "stream",
     "text": [
      "Movie: Title    new nightmare\n",
      "Genre         thriller\n",
      "Name: new nightmare, dtype: object\n",
      "Features:\n"
     ]
    },
    {
     "data": {
      "text/plain": [
       "kill        0.000729\n",
       "well        0.004010\n",
       "question    0.000000\n",
       "dead        0.000365\n",
       "cop         0.000729\n",
       "murder      0.000000\n",
       "gun         0.000000\n",
       "killer      0.000000\n",
       "uh          0.000000\n",
       "oh          0.001458\n",
       "marri       0.000000\n",
       "thank       0.000365\n",
       "love        0.001094\n",
       "Name: new nightmare, dtype: float64"
      ]
     },
     "execution_count": 777,
     "metadata": {},
     "output_type": "execute_result"
    }
   ],
   "source": [
    "print(f\"Movie:\", test_movies.iloc[0,:][['Title', 'Genre']])\n",
    "\n",
    "print(\"Features:\")\n",
    "test_my_features.iloc[0,:]"
   ]
  },
  {
   "cell_type": "markdown",
   "metadata": {},
   "source": [
    "As before, we want to look for the movies in the training set that are most like our test movie.  We will calculate the Euclidean distances from the test movie (using `my_features`) to all movies in the training set."
   ]
  },
  {
   "cell_type": "markdown",
   "metadata": {},
   "source": [
    "#### 3.1.3 - finding K nearest neighbors to the movie to classify it\n",
    "We can use the distance function defined above to compute the distance from the first movie in the test set to all the movies in the training set, **using the updated/engineered set of features**.\n",
    "\n",
    "This is shown in the sorted table `genre_and_distances`, with one row for each movie in the training set and two columns:\n",
    "* The `\"Genre\"` of the training movie\n",
    "* The `\"Distance\"` from the first movie in the test set "
   ]
  },
  {
   "cell_type": "code",
   "execution_count": 779,
   "metadata": {
    "for_assignment_type": "solution"
   },
   "outputs": [
    {
     "data": {
      "text/html": [
       "<div>\n",
       "<style scoped>\n",
       "    .dataframe tbody tr th:only-of-type {\n",
       "        vertical-align: middle;\n",
       "    }\n",
       "\n",
       "    .dataframe tbody tr th {\n",
       "        vertical-align: top;\n",
       "    }\n",
       "\n",
       "    .dataframe thead th {\n",
       "        text-align: right;\n",
       "    }\n",
       "</style>\n",
       "<table border=\"1\" class=\"dataframe\">\n",
       "  <thead>\n",
       "    <tr style=\"text-align: right;\">\n",
       "      <th></th>\n",
       "      <th>Genre</th>\n",
       "      <th>Distance</th>\n",
       "    </tr>\n",
       "    <tr>\n",
       "      <th>Title</th>\n",
       "      <th></th>\n",
       "      <th></th>\n",
       "    </tr>\n",
       "  </thead>\n",
       "  <tbody>\n",
       "    <tr>\n",
       "      <th>10 things i hate about you</th>\n",
       "      <td>comedy</td>\n",
       "      <td>0.000000e+00</td>\n",
       "    </tr>\n",
       "    <tr>\n",
       "      <th>bamboozled</th>\n",
       "      <td>comedy</td>\n",
       "      <td>1.078239e-16</td>\n",
       "    </tr>\n",
       "    <tr>\n",
       "      <th>say anything...</th>\n",
       "      <td>comedy</td>\n",
       "      <td>1.218643e-16</td>\n",
       "    </tr>\n",
       "    <tr>\n",
       "      <th>bachelor party</th>\n",
       "      <td>comedy</td>\n",
       "      <td>1.396452e-16</td>\n",
       "    </tr>\n",
       "    <tr>\n",
       "      <th>the boondock saints</th>\n",
       "      <td>thriller</td>\n",
       "      <td>1.586459e-16</td>\n",
       "    </tr>\n",
       "    <tr>\n",
       "      <th>...</th>\n",
       "      <td>...</td>\n",
       "      <td>...</td>\n",
       "    </tr>\n",
       "    <tr>\n",
       "      <th>shakespeare in love</th>\n",
       "      <td>comedy</td>\n",
       "      <td>5.255226e-14</td>\n",
       "    </tr>\n",
       "    <tr>\n",
       "      <th>halloween 4: the return of michael myers</th>\n",
       "      <td>thriller</td>\n",
       "      <td>5.585606e-14</td>\n",
       "    </tr>\n",
       "    <tr>\n",
       "      <th>star trek: insurrection</th>\n",
       "      <td>thriller</td>\n",
       "      <td>5.675777e-14</td>\n",
       "    </tr>\n",
       "    <tr>\n",
       "      <th>the big lebowski</th>\n",
       "      <td>comedy</td>\n",
       "      <td>5.906733e-14</td>\n",
       "    </tr>\n",
       "    <tr>\n",
       "      <th>jaws 3-d</th>\n",
       "      <td>thriller</td>\n",
       "      <td>5.982226e-14</td>\n",
       "    </tr>\n",
       "  </tbody>\n",
       "</table>\n",
       "<p>314 rows × 2 columns</p>\n",
       "</div>"
      ],
      "text/plain": [
       "                                             Genre      Distance\n",
       "Title                                                           \n",
       "10 things i hate about you                  comedy  0.000000e+00\n",
       "bamboozled                                  comedy  1.078239e-16\n",
       "say anything...                             comedy  1.218643e-16\n",
       "bachelor party                              comedy  1.396452e-16\n",
       "the boondock saints                       thriller  1.586459e-16\n",
       "...                                            ...           ...\n",
       "shakespeare in love                         comedy  5.255226e-14\n",
       "halloween 4: the return of michael myers  thriller  5.585606e-14\n",
       "star trek: insurrection                   thriller  5.675777e-14\n",
       "the big lebowski                            comedy  5.906733e-14\n",
       "jaws 3-d                                  thriller  5.982226e-14\n",
       "\n",
       "[314 rows x 2 columns]"
      ]
     },
     "execution_count": 779,
     "metadata": {},
     "output_type": "execute_result"
    }
   ],
   "source": [
    "movie1 = train_movies.iloc[0, 5:]\n",
    "train_distances = np.empty(0)\n",
    "\n",
    "for i in np.arange(train_movies.shape[0]):\n",
    "    new_dist = distance(movie1, train_movies.iloc[i, 5:])\n",
    "    train_distances = np.append(train_distances, new_dist)\n",
    "    \n",
    "\n",
    "genre_copy = train_movies.copy()\n",
    "genre_copy[\"Distance\"] = train_distances\n",
    "\n",
    "sorted_distance = genre_copy.sort_values(\"Distance\", ascending = True)\n",
    "genre_and_distances = sorted_distance[[\"Genre\", \"Distance\"]]\n",
    "\n",
    "genre_and_distances"
   ]
  },
  {
   "cell_type": "markdown",
   "metadata": {},
   "source": [
    "Now we can compute the k-nearest neighbors genre classification (with k=7) of the first movie in the test set. Then check whether your classifier chose the right genre."
   ]
  },
  {
   "cell_type": "code",
   "execution_count": 781,
   "metadata": {},
   "outputs": [
    {
     "name": "stdout",
     "output_type": "stream",
     "text": [
      "The assigned genre, comedy, was not correct.\n"
     ]
    }
   ],
   "source": [
    "top_7 = genre_and_distances.iloc[:7, :]\n",
    "\n",
    "unique = pd.DataFrame({\"unique genre\": top_7[\"Genre\"].unique(),\n",
    "                       \"frequency\": top_7[\"Genre\"].value_counts()})\n",
    "\n",
    "most_frequent = unique[unique[\"frequency\"] == max(unique[\"frequency\"])] # find maximum\n",
    "\n",
    "\n",
    "# Set my_assigned_genre to the most common genre among these.\n",
    "my_assigned_genre = np.array(most_frequent[\"unique genre\"])[0]\n",
    "\n",
    "\n",
    "# Set my_assigned_genre_was_correct to True if my_assigned_genre\n",
    "# matches the actual genre of the first movie in the test set.\n",
    "real_genre = test_movies.iloc[0,3]\n",
    "my_assigned_genre_was_correct = my_assigned_genre == real_genre\n",
    "\n",
    "print(\"The assigned genre, {}, was{}correct.\".format(my_assigned_genre, \" \" if my_assigned_genre_was_correct else \" not \"))"
   ]
  },
  {
   "cell_type": "markdown",
   "metadata": {},
   "source": [
    "## 3.2. A classifier function\n",
    "\n",
    "Let's write a single function that encapsulates the whole process of classification."
   ]
  },
  {
   "cell_type": "markdown",
   "metadata": {},
   "source": [
    "#### 3.2.1 - creating the function\n",
    "This function, `classify`, takes the following four arguments:\n",
    "* A test row of features for a movie to classify.\n",
    "* A training table with a column for each feature.\n",
    "* An array of classes (e.g. the labels \"comedy\" or \"thriller\") that has as many items as the previous table has rows, and in the same order.\n",
    "* `k`, the number of neighbors to use in classification.\n",
    "\n",
    "It returns the class a `k`-nearest neighbor classifier picks for the given row of features (the string `'comedy'` or the string `'thriller'`)."
   ]
  },
  {
   "cell_type": "code",
   "execution_count": 783,
   "metadata": {},
   "outputs": [
    {
     "name": "stdout",
     "output_type": "stream",
     "text": [
      "We classify the movie new nightmare as thriller\n"
     ]
    }
   ],
   "source": [
    "def classify(test_row, train_rows, train_labels, k):\n",
    "    \"\"\"\n",
    "    Return the most common class among k nearest neigbors to test_row.\n",
    "    train_rows: training table with a column for each feature\n",
    "    train_labels: an array of classes (e.g. \"comedy\",\"thriller\") with the same order & length as train_rows\n",
    "    k: number of neighbors\n",
    "    \"\"\"\n",
    "    test_row_array = np.array(test_row) # row -> array of values\n",
    "\n",
    "\n",
    "    # find the euclidean distance between the test row and each row in the training table:\n",
    "    distances = np.empty(0)\n",
    "    for row in np.arange(train_rows.shape[0]):\n",
    "        each_row_array = np.array(train_rows.iloc[row, :]) # goes through each row of the table\n",
    "        new_dist = distance(test_row_array, each_row_array)\n",
    "        distances = np.append(distances, new_dist) # array of all the distances to test_row\n",
    "\n",
    "    \n",
    "    # add a column for genre and a column for distance to the training table:\n",
    "    train_copy = train_rows.copy()\n",
    "    train_copy[\"genre\"] = train_labels\n",
    "    train_copy[\"distance\"] = distances\n",
    "\n",
    "\n",
    "    # sort by distance and select closest k neighbors:\n",
    "    sorted_dist = train_copy.sort_values(\"distance\", ascending = True)\n",
    "    closest_k = sorted_dist.iloc[:k, :]\n",
    "\n",
    "    # find most common genre\n",
    "    genre = most_common(\"genre\", closest_k)\n",
    "    \n",
    "    return genre\n",
    "\n",
    "\n",
    "# test on the first movie in the test set, \"New Nightmare\"\n",
    "movie_row = 0\n",
    "classification = classify(test_my_features.iloc[movie_row,:], train_my_features, np.array(train_movies[\"Genre\"]), 7)\n",
    "\n",
    "print(f'We classify the movie {test_my_features.index[movie_row]} as {classification}')"
   ]
  },
  {
   "cell_type": "markdown",
   "metadata": {},
   "source": [
    "#### 3.2.2 - example prediction\n",
    "\n",
    "Let's predict the genre of \"Tron\" in the test set (assigned to `tron_genre` ), using **13 neighbors** and the updated list of features."
   ]
  },
  {
   "cell_type": "code",
   "execution_count": 785,
   "metadata": {},
   "outputs": [
    {
     "data": {
      "text/plain": [
       "'thriller'"
      ]
     },
     "execution_count": 785,
     "metadata": {},
     "output_type": "execute_result"
    }
   ],
   "source": [
    "tron_row = test_my_features.loc[\"tron\"]\n",
    "\n",
    "tron_genre = classify(tron_row, train_my_features, np.array(train_movies[\"Genre\"]), 13)\n",
    "tron_genre"
   ]
  },
  {
   "cell_type": "markdown",
   "metadata": {},
   "source": [
    "#### 3.2.3 - a simpler classify function\n",
    "To make it simpler, we can create a classification function that takes as its single argument a row containing the features of interest, and classifies that row using the `classify` function defined above with 13 nearest neighbors."
   ]
  },
  {
   "cell_type": "code",
   "execution_count": 787,
   "metadata": {},
   "outputs": [
    {
     "data": {
      "text/plain": [
       "'thriller'"
      ]
     },
     "execution_count": 787,
     "metadata": {},
     "output_type": "execute_result"
    }
   ],
   "source": [
    "def classify_feature_row(row):\n",
    "    \n",
    "    classification = classify(row, train_my_features, np.array(train_movies[\"Genre\"]), 13)\n",
    "\n",
    "    return classification\n",
    "\n",
    "# To test: (this produces 'Thriller' or 'Comedy')\n",
    "classify_feature_row(test_my_features.iloc[0,:])"
   ]
  },
  {
   "cell_type": "markdown",
   "metadata": {},
   "source": [
    "## 3.3. Evaluating the performance of our classifier"
   ]
  },
  {
   "cell_type": "markdown",
   "metadata": {},
   "source": [
    "Now that it's easy to use the classifier, let's see how accurate it is on the whole test set.\n",
    "\n",
    "Here, we classify every movie in the test set as `test_guesses`. Then, we can compute the proportion of correct classifications. "
   ]
  },
  {
   "cell_type": "code",
   "execution_count": 789,
   "metadata": {},
   "outputs": [
    {
     "data": {
      "text/plain": [
       "0.7321428571428571"
      ]
     },
     "execution_count": 789,
     "metadata": {},
     "output_type": "execute_result"
    }
   ],
   "source": [
    "test_guesses = np.empty(0)\n",
    "\n",
    "for row in np.arange(test_my_features.shape[0]):\n",
    "    new_classification = classify_feature_row(test_my_features.iloc[row, :])\n",
    "    test_guesses = np.append(test_guesses, new_classification)\n",
    "\n",
    "real_genres = np.array(test_movies[\"Genre\"])\n",
    "\n",
    "matching = test_guesses == real_genres\n",
    "\n",
    "correct = 0\n",
    "for i in np.arange(len(matching)):\n",
    "    if matching[i] == True:\n",
    "        correct += 1\n",
    "\n",
    "proportion_correct = correct / len(matching)\n",
    "proportion_correct"
   ]
  },
  {
   "cell_type": "markdown",
   "metadata": {},
   "source": [
    "#### 3.3.2. mistakes\n",
    "An important part of evaluating classifiers is figuring out where they make mistakes. To visualize this, we can make a table called `test_movie_correctness` with three columns, `'Title'`, `'Genre'`, and `'Was correct'`. The last column contains `True` or `False` depending on whether or not the movie was classified correctly."
   ]
  },
  {
   "cell_type": "code",
   "execution_count": 791,
   "metadata": {
    "for_assignment_type": "student",
    "manual_problem_id": "test_movie_correctness"
   },
   "outputs": [
    {
     "data": {
      "text/html": [
       "<div>\n",
       "<style scoped>\n",
       "    .dataframe tbody tr th:only-of-type {\n",
       "        vertical-align: middle;\n",
       "    }\n",
       "\n",
       "    .dataframe tbody tr th {\n",
       "        vertical-align: top;\n",
       "    }\n",
       "\n",
       "    .dataframe thead th {\n",
       "        text-align: right;\n",
       "    }\n",
       "</style>\n",
       "<table border=\"1\" class=\"dataframe\">\n",
       "  <thead>\n",
       "    <tr style=\"text-align: right;\">\n",
       "      <th></th>\n",
       "      <th>Title</th>\n",
       "      <th>Genre</th>\n",
       "      <th>Was correct</th>\n",
       "    </tr>\n",
       "  </thead>\n",
       "  <tbody>\n",
       "    <tr>\n",
       "      <th>0</th>\n",
       "      <td>new nightmare</td>\n",
       "      <td>thriller</td>\n",
       "      <td>True</td>\n",
       "    </tr>\n",
       "    <tr>\n",
       "      <th>1</th>\n",
       "      <td>the grifters</td>\n",
       "      <td>thriller</td>\n",
       "      <td>True</td>\n",
       "    </tr>\n",
       "    <tr>\n",
       "      <th>2</th>\n",
       "      <td>the body snatcher</td>\n",
       "      <td>thriller</td>\n",
       "      <td>True</td>\n",
       "    </tr>\n",
       "    <tr>\n",
       "      <th>3</th>\n",
       "      <td>smoke</td>\n",
       "      <td>comedy</td>\n",
       "      <td>True</td>\n",
       "    </tr>\n",
       "    <tr>\n",
       "      <th>4</th>\n",
       "      <td>godzilla</td>\n",
       "      <td>thriller</td>\n",
       "      <td>True</td>\n",
       "    </tr>\n",
       "    <tr>\n",
       "      <th>5</th>\n",
       "      <td>mystery of the wax museum</td>\n",
       "      <td>thriller</td>\n",
       "      <td>True</td>\n",
       "    </tr>\n",
       "    <tr>\n",
       "      <th>6</th>\n",
       "      <td>rear window</td>\n",
       "      <td>thriller</td>\n",
       "      <td>False</td>\n",
       "    </tr>\n",
       "    <tr>\n",
       "      <th>7</th>\n",
       "      <td>u turn</td>\n",
       "      <td>thriller</td>\n",
       "      <td>True</td>\n",
       "    </tr>\n",
       "    <tr>\n",
       "      <th>8</th>\n",
       "      <td>jason goes to hell: the final friday</td>\n",
       "      <td>thriller</td>\n",
       "      <td>False</td>\n",
       "    </tr>\n",
       "    <tr>\n",
       "      <th>9</th>\n",
       "      <td>the crow: salvation</td>\n",
       "      <td>thriller</td>\n",
       "      <td>False</td>\n",
       "    </tr>\n",
       "    <tr>\n",
       "      <th>10</th>\n",
       "      <td>fast times at ridgemont high</td>\n",
       "      <td>comedy</td>\n",
       "      <td>False</td>\n",
       "    </tr>\n",
       "    <tr>\n",
       "      <th>11</th>\n",
       "      <td>ed wood</td>\n",
       "      <td>comedy</td>\n",
       "      <td>True</td>\n",
       "    </tr>\n",
       "    <tr>\n",
       "      <th>12</th>\n",
       "      <td>the fifth element</td>\n",
       "      <td>thriller</td>\n",
       "      <td>False</td>\n",
       "    </tr>\n",
       "    <tr>\n",
       "      <th>13</th>\n",
       "      <td>storytelling</td>\n",
       "      <td>comedy</td>\n",
       "      <td>True</td>\n",
       "    </tr>\n",
       "    <tr>\n",
       "      <th>14</th>\n",
       "      <td>halloween h20: 20 years later</td>\n",
       "      <td>thriller</td>\n",
       "      <td>True</td>\n",
       "    </tr>\n",
       "    <tr>\n",
       "      <th>15</th>\n",
       "      <td>gone in sixty seconds</td>\n",
       "      <td>thriller</td>\n",
       "      <td>False</td>\n",
       "    </tr>\n",
       "    <tr>\n",
       "      <th>16</th>\n",
       "      <td>the butterfly effect</td>\n",
       "      <td>thriller</td>\n",
       "      <td>True</td>\n",
       "    </tr>\n",
       "    <tr>\n",
       "      <th>17</th>\n",
       "      <td>edtv</td>\n",
       "      <td>comedy</td>\n",
       "      <td>True</td>\n",
       "    </tr>\n",
       "    <tr>\n",
       "      <th>18</th>\n",
       "      <td>black rain</td>\n",
       "      <td>thriller</td>\n",
       "      <td>True</td>\n",
       "    </tr>\n",
       "    <tr>\n",
       "      <th>19</th>\n",
       "      <td>bringing out the dead</td>\n",
       "      <td>thriller</td>\n",
       "      <td>True</td>\n",
       "    </tr>\n",
       "    <tr>\n",
       "      <th>20</th>\n",
       "      <td>basic</td>\n",
       "      <td>thriller</td>\n",
       "      <td>False</td>\n",
       "    </tr>\n",
       "    <tr>\n",
       "      <th>21</th>\n",
       "      <td>detroit rock city</td>\n",
       "      <td>comedy</td>\n",
       "      <td>False</td>\n",
       "    </tr>\n",
       "    <tr>\n",
       "      <th>22</th>\n",
       "      <td>panic room</td>\n",
       "      <td>thriller</td>\n",
       "      <td>True</td>\n",
       "    </tr>\n",
       "    <tr>\n",
       "      <th>23</th>\n",
       "      <td>juno</td>\n",
       "      <td>comedy</td>\n",
       "      <td>True</td>\n",
       "    </tr>\n",
       "    <tr>\n",
       "      <th>24</th>\n",
       "      <td>my girl 2</td>\n",
       "      <td>comedy</td>\n",
       "      <td>True</td>\n",
       "    </tr>\n",
       "    <tr>\n",
       "      <th>25</th>\n",
       "      <td>nick of time</td>\n",
       "      <td>thriller</td>\n",
       "      <td>False</td>\n",
       "    </tr>\n",
       "    <tr>\n",
       "      <th>26</th>\n",
       "      <td>hannibal</td>\n",
       "      <td>thriller</td>\n",
       "      <td>True</td>\n",
       "    </tr>\n",
       "    <tr>\n",
       "      <th>27</th>\n",
       "      <td>airplane ii: the sequel</td>\n",
       "      <td>comedy</td>\n",
       "      <td>False</td>\n",
       "    </tr>\n",
       "    <tr>\n",
       "      <th>28</th>\n",
       "      <td>suburbia</td>\n",
       "      <td>comedy</td>\n",
       "      <td>True</td>\n",
       "    </tr>\n",
       "    <tr>\n",
       "      <th>29</th>\n",
       "      <td>body of evidence</td>\n",
       "      <td>thriller</td>\n",
       "      <td>True</td>\n",
       "    </tr>\n",
       "    <tr>\n",
       "      <th>30</th>\n",
       "      <td>twelve monkeys</td>\n",
       "      <td>thriller</td>\n",
       "      <td>True</td>\n",
       "    </tr>\n",
       "    <tr>\n",
       "      <th>31</th>\n",
       "      <td>the game</td>\n",
       "      <td>thriller</td>\n",
       "      <td>True</td>\n",
       "    </tr>\n",
       "    <tr>\n",
       "      <th>32</th>\n",
       "      <td>sleepy hollow</td>\n",
       "      <td>thriller</td>\n",
       "      <td>True</td>\n",
       "    </tr>\n",
       "    <tr>\n",
       "      <th>33</th>\n",
       "      <td>his girl friday</td>\n",
       "      <td>comedy</td>\n",
       "      <td>True</td>\n",
       "    </tr>\n",
       "    <tr>\n",
       "      <th>34</th>\n",
       "      <td>misery</td>\n",
       "      <td>thriller</td>\n",
       "      <td>False</td>\n",
       "    </tr>\n",
       "    <tr>\n",
       "      <th>35</th>\n",
       "      <td>smokey and the bandit</td>\n",
       "      <td>comedy</td>\n",
       "      <td>False</td>\n",
       "    </tr>\n",
       "    <tr>\n",
       "      <th>36</th>\n",
       "      <td>mulholland dr.</td>\n",
       "      <td>thriller</td>\n",
       "      <td>True</td>\n",
       "    </tr>\n",
       "    <tr>\n",
       "      <th>37</th>\n",
       "      <td>backdraft</td>\n",
       "      <td>thriller</td>\n",
       "      <td>True</td>\n",
       "    </tr>\n",
       "    <tr>\n",
       "      <th>38</th>\n",
       "      <td>spare me</td>\n",
       "      <td>thriller</td>\n",
       "      <td>True</td>\n",
       "    </tr>\n",
       "    <tr>\n",
       "      <th>39</th>\n",
       "      <td>tron</td>\n",
       "      <td>thriller</td>\n",
       "      <td>True</td>\n",
       "    </tr>\n",
       "    <tr>\n",
       "      <th>40</th>\n",
       "      <td>annie hall</td>\n",
       "      <td>comedy</td>\n",
       "      <td>True</td>\n",
       "    </tr>\n",
       "    <tr>\n",
       "      <th>41</th>\n",
       "      <td>jackie brown</td>\n",
       "      <td>thriller</td>\n",
       "      <td>False</td>\n",
       "    </tr>\n",
       "    <tr>\n",
       "      <th>42</th>\n",
       "      <td>monty python and the holy grail</td>\n",
       "      <td>comedy</td>\n",
       "      <td>True</td>\n",
       "    </tr>\n",
       "    <tr>\n",
       "      <th>43</th>\n",
       "      <td>star trek: the wrath of khan</td>\n",
       "      <td>thriller</td>\n",
       "      <td>True</td>\n",
       "    </tr>\n",
       "    <tr>\n",
       "      <th>44</th>\n",
       "      <td>batman returns</td>\n",
       "      <td>thriller</td>\n",
       "      <td>False</td>\n",
       "    </tr>\n",
       "    <tr>\n",
       "      <th>45</th>\n",
       "      <td>suspect zero</td>\n",
       "      <td>thriller</td>\n",
       "      <td>True</td>\n",
       "    </tr>\n",
       "    <tr>\n",
       "      <th>46</th>\n",
       "      <td>sphere</td>\n",
       "      <td>thriller</td>\n",
       "      <td>False</td>\n",
       "    </tr>\n",
       "    <tr>\n",
       "      <th>47</th>\n",
       "      <td>o brother where art thou?</td>\n",
       "      <td>comedy</td>\n",
       "      <td>True</td>\n",
       "    </tr>\n",
       "    <tr>\n",
       "      <th>48</th>\n",
       "      <td>happy birthday wanda june</td>\n",
       "      <td>comedy</td>\n",
       "      <td>True</td>\n",
       "    </tr>\n",
       "    <tr>\n",
       "      <th>49</th>\n",
       "      <td>cruel intentions</td>\n",
       "      <td>thriller</td>\n",
       "      <td>True</td>\n",
       "    </tr>\n",
       "    <tr>\n",
       "      <th>50</th>\n",
       "      <td>what lies beneath</td>\n",
       "      <td>thriller</td>\n",
       "      <td>True</td>\n",
       "    </tr>\n",
       "    <tr>\n",
       "      <th>51</th>\n",
       "      <td>the thin man</td>\n",
       "      <td>comedy</td>\n",
       "      <td>True</td>\n",
       "    </tr>\n",
       "    <tr>\n",
       "      <th>52</th>\n",
       "      <td>wonder boys</td>\n",
       "      <td>comedy</td>\n",
       "      <td>True</td>\n",
       "    </tr>\n",
       "    <tr>\n",
       "      <th>53</th>\n",
       "      <td>the war of the worlds</td>\n",
       "      <td>thriller</td>\n",
       "      <td>True</td>\n",
       "    </tr>\n",
       "    <tr>\n",
       "      <th>54</th>\n",
       "      <td>what women want</td>\n",
       "      <td>comedy</td>\n",
       "      <td>True</td>\n",
       "    </tr>\n",
       "    <tr>\n",
       "      <th>55</th>\n",
       "      <td>three kings</td>\n",
       "      <td>comedy</td>\n",
       "      <td>True</td>\n",
       "    </tr>\n",
       "  </tbody>\n",
       "</table>\n",
       "</div>"
      ],
      "text/plain": [
       "                                   Title     Genre  Was correct\n",
       "0                          new nightmare  thriller         True\n",
       "1                           the grifters  thriller         True\n",
       "2                      the body snatcher  thriller         True\n",
       "3                                  smoke    comedy         True\n",
       "4                               godzilla  thriller         True\n",
       "5              mystery of the wax museum  thriller         True\n",
       "6                            rear window  thriller        False\n",
       "7                                 u turn  thriller         True\n",
       "8   jason goes to hell: the final friday  thriller        False\n",
       "9                    the crow: salvation  thriller        False\n",
       "10          fast times at ridgemont high    comedy        False\n",
       "11                               ed wood    comedy         True\n",
       "12                     the fifth element  thriller        False\n",
       "13                          storytelling    comedy         True\n",
       "14         halloween h20: 20 years later  thriller         True\n",
       "15                 gone in sixty seconds  thriller        False\n",
       "16                  the butterfly effect  thriller         True\n",
       "17                                  edtv    comedy         True\n",
       "18                            black rain  thriller         True\n",
       "19                 bringing out the dead  thriller         True\n",
       "20                                 basic  thriller        False\n",
       "21                     detroit rock city    comedy        False\n",
       "22                            panic room  thriller         True\n",
       "23                                  juno    comedy         True\n",
       "24                             my girl 2    comedy         True\n",
       "25                          nick of time  thriller        False\n",
       "26                              hannibal  thriller         True\n",
       "27               airplane ii: the sequel    comedy        False\n",
       "28                              suburbia    comedy         True\n",
       "29                      body of evidence  thriller         True\n",
       "30                        twelve monkeys  thriller         True\n",
       "31                              the game  thriller         True\n",
       "32                         sleepy hollow  thriller         True\n",
       "33                       his girl friday    comedy         True\n",
       "34                                misery  thriller        False\n",
       "35                 smokey and the bandit    comedy        False\n",
       "36                        mulholland dr.  thriller         True\n",
       "37                             backdraft  thriller         True\n",
       "38                              spare me  thriller         True\n",
       "39                                  tron  thriller         True\n",
       "40                            annie hall    comedy         True\n",
       "41                          jackie brown  thriller        False\n",
       "42       monty python and the holy grail    comedy         True\n",
       "43          star trek: the wrath of khan  thriller         True\n",
       "44                        batman returns  thriller        False\n",
       "45                          suspect zero  thriller         True\n",
       "46                                sphere  thriller        False\n",
       "47             o brother where art thou?    comedy         True\n",
       "48             happy birthday wanda june    comedy         True\n",
       "49                      cruel intentions  thriller         True\n",
       "50                     what lies beneath  thriller         True\n",
       "51                          the thin man    comedy         True\n",
       "52                           wonder boys    comedy         True\n",
       "53                 the war of the worlds  thriller         True\n",
       "54                       what women want    comedy         True\n",
       "55                           three kings    comedy         True"
      ]
     },
     "execution_count": 791,
     "metadata": {},
     "output_type": "execute_result"
    }
   ],
   "source": [
    "test_movie_correctness = pd.DataFrame({\"Title\": np.array(test_movies[\"Title\"]), \n",
    "              \"Genre\": np.array(test_movies[\"Genre\"]), \n",
    "              \"Was correct\": matching})\n",
    "\n",
    "test_movie_correctness"
   ]
  },
  {
   "cell_type": "markdown",
   "metadata": {
    "export_pdf": true,
    "manual_problem_id": "old_classifier_pattern"
   },
   "source": [
    "Looking at the table above, it seems that the thriller movies that were misclassified were, in general, not *crime* movies. This makes sense because the features/words that were used to classify a thriller movie, things like \"cop\", \"murder\", \"polic\", etc. are usually all only associated with a crime plot."
   ]
  },
  {
   "cell_type": "markdown",
   "metadata": {},
   "source": [
    "## 4. Explorations and Optimization\n",
    "Let's build an even better classifier."
   ]
  },
  {
   "cell_type": "markdown",
   "metadata": {},
   "source": [
    "#### 4.1 - Improvements\n",
    "To develop a classifier with better test-set accuracy than `classify_feature_row` (but with the same arguments & applications), I am choosing to increase the value of k (the number of nearest neighbor movies), as well as expanding the list of features/words to be longer. These two changes will hopefully make classification of movie genres more accurate."
   ]
  },
  {
   "cell_type": "code",
   "execution_count": 794,
   "metadata": {},
   "outputs": [
    {
     "data": {
      "text/plain": [
       "0.75"
      ]
     },
     "execution_count": 794,
     "metadata": {},
     "output_type": "execute_result"
    }
   ],
   "source": [
    "# array of features, longer than the first one\n",
    "new_features = np.array([\n",
    "    \"laugh\", \"marri\", \"dead\", \"heart\", \"kill\", \"knew\", \"murder\", \"case\", \"found\", \"ship\", \"saw\", \"captain\",  \n",
    "    \"gun\", \"killer\", \"uh\", \"oh\", \"question\", \"well\", \"thank\", \"hei\", \"love\", \"realli\", \"yeah\", \"huh\", \"great\"])\n",
    "\n",
    "\n",
    "train_new = train_movies[new_features]\n",
    "test_new = test_movies[new_features]\n",
    "\n",
    "\n",
    "def another_classifier(row):\n",
    "    \n",
    "    classification = classify(row, train_new, np.array(train_movies[\"Genre\"]), 13)\n",
    "\n",
    "    return classification\n",
    "\n",
    "\n",
    "# for loop to make an array of classifications/guesses\n",
    "new_test_guesses = np.empty(0)\n",
    "\n",
    "for i in np.arange(test_new.shape[0]):\n",
    "    newest_classification = another_classifier(test_new.iloc[i, :])\n",
    "    new_test_guesses = np.append(new_test_guesses, newest_classification)\n",
    "    \n",
    "true_genres = np.array(test_movies[\"Genre\"])\n",
    "new_correct = new_test_guesses == true_genres # array of True, False: if the guess was correct or not\n",
    "\n",
    "\n",
    "# proportion correct\n",
    "num_correct = 0\n",
    "for n in np.arange(len(new_correct)):\n",
    "    if new_correct[n] == True:\n",
    "        num_correct += 1\n",
    "        \n",
    "new_proportion_correct = num_correct / len(new_correct)\n",
    "new_proportion_correct"
   ]
  },
  {
   "cell_type": "markdown",
   "metadata": {
    "export_pdf": true,
    "manual_problem_id": "new_classifier_pattern"
   },
   "source": [
    "### Conclusions:\n",
    "I was able to improve the accuracy from the first classifier to the second one, by including more features in my list (more words that can be used to classify a movie as either a comedy or a thriller), as well as including a higher k value for the number of nearest neighbors considered in the classification process.\n",
    "\n",
    "The accuracy improved from around 0.73 to 0.75 as a result."
   ]
  }
 ],
 "metadata": {
  "kernelspec": {
   "display_name": "Python 3 (ipykernel)",
   "language": "python",
   "name": "python3"
  },
  "language_info": {
   "codemirror_mode": {
    "name": "ipython",
    "version": 3
   },
   "file_extension": ".py",
   "mimetype": "text/x-python",
   "name": "python",
   "nbconvert_exporter": "python",
   "pygments_lexer": "ipython3",
   "version": "3.12.4"
  }
 },
 "nbformat": 4,
 "nbformat_minor": 4
}
